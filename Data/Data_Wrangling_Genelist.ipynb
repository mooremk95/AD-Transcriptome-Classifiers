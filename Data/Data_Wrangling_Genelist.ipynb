{
 "cells": [
  {
   "cell_type": "markdown",
   "metadata": {},
   "source": [
    "# Data wrangling Illumina microarray data and Allan Brain Span data\n",
    "In this notebook I process some data from *Illumina HumanHT-12 V4.0* microarray annotations, as well as developmental transcriptome data from the \n",
    "Allen Brain institute's developmental transcriptome. The goal of this notebook is to produce a tab-separated value file containing the illumina probe # for\n",
    "the *Illumina HumanHT-12 V4.0* microarray, the associated gene symbol for said probe, and other potentially useful information about said gene detailed later. \n",
    "\n",
    "Author: Michael Moore"
   ]
  },
  {
   "cell_type": "code",
   "execution_count": 1,
   "metadata": {},
   "outputs": [
    {
     "data": {
      "text/plain": [
       "Index(['ID_REF', 'Illumina probe name', 'ND_1_08-81', 'ND_2_08-85',\n",
       "       'ND_4_08-72', 'ND_5_08-83', 'ND_6_97-53', 'ND_7_98-19', 'ND_8_97-46',\n",
       "       'ND_9_97-17',\n",
       "       ...\n",
       "       'ND_14_97-09', 'ND_20_99-29', 'ND_15_97-10', 'ND_21_99-22',\n",
       "       'ND_16_97-02', 'ND_22_99-02', 'ND_17_97-14', 'ND_23_98-22',\n",
       "       'ND_18_97-37', 'ND_24_98-32'],\n",
       "      dtype='object', length=197)"
      ]
     },
     "execution_count": 1,
     "metadata": {},
     "output_type": "execute_result"
    }
   ],
   "source": [
    "import pandas as pd\n",
    "import csv\n",
    "experimental_df = pd.read_excel(\"GSE132903_Matrix_Normalized.xlsx\")\n",
    "experimental_df.columns"
   ]
  },
  {
   "cell_type": "markdown",
   "metadata": {},
   "source": [
    "# Simplifying the Illumina HumanHT-12 V4.0 expression beadchip annotation file\n",
    "The Illumina HumanHT-12 Microarray annotation file was obtained from [GEO](https://www.ncbi.nlm.nih.gov/geo/query/acc.cgi?acc=GPL10558). I'm not sure what the first \n",
    "811 lines are, but line 812 of the fuyll annotation tsv are. The first line which correlates illumina probe #'s to gene names. This file is in a tab-separated value \n",
    "format with 30 values per line. Each line has many redundant  values. Some values I could not determine the meaning of, and many seem to be left blank with some single-character \n",
    "flag values ocassionally ocurring. I pared down the list of values I wanted per line to 6. \n",
    "1. Illumina probe # (col 0)\n",
    "2. Accession # (col 3)\n",
    "3. Gene Symbol (col 5)\n",
    "4. Gene Symbol 2 (col 12, this may be redundant, but I wanted to capture lines which may not have the 1st gene name)\n",
    "5. locus location (col 22) \n",
    "6. Brief Description (col 23)\n",
    "\n",
    "I loop over each of these entries, and write them into a new tab-separated value file which has the the aformentioned column names as the first row. \n",
    "This should be quite a bit nice to work with via pandas then the original tab-separate value file. "
   ]
  },
  {
   "cell_type": "code",
   "execution_count": 2,
   "metadata": {},
   "outputs": [],
   "source": [
    "with open(\"GPL10558-50081.txt\", \"r\") as f:\n",
    "    # Found colums \n",
    "    with open(\"cleaned_illumina_annotations.tsv\", \"w\") as out:\n",
    "        out.write(\"probe#\\taccession#\\tgeneSymbol\\tgeneSymbol2\\tcsomeLocus\\tdescription\\n\")\n",
    "        for line in f:\n",
    "            vals = line.split(\"\\t\")\n",
    "            out.write(f\"{vals[0]}\\t{vals[3]}\\t{vals[5]}\\t{vals[12]}\\t{vals[22]}\\t{vals[23]}\\n\")\n"
   ]
  },
  {
   "cell_type": "code",
   "execution_count": 3,
   "metadata": {},
   "outputs": [
    {
     "data": {
      "text/plain": [
       "<bound method NDFrame.head of                   probe#   accession# geneSymbol2 csomeLocus  \\\n",
       "geneSymbol                                                     \n",
       "LOC643334   ILMN_1651199  XM_931492.1   LOC643334    2q37.3b   \n",
       "SLC35E2     ILMN_1651209  NM_182838.1     SLC35E2   1p36.33a   \n",
       "DUSP22      ILMN_1651210  XM_941691.1      DUSP22    6p25.3b   \n",
       "LOC642820   ILMN_1651221  XM_926225.1   LOC642820        NaN   \n",
       "RPS28       ILMN_1651228  NM_001031.4       RPS28   19p13.2d   \n",
       "...                  ...          ...         ...        ...   \n",
       "SKCG-1      ILMN_3311170  XR_040141.2      SKCG-1   11q22.3d   \n",
       "ESP33       ILMN_3311175  XR_079076.1       ESP33        NaN   \n",
       "SKCG-1      ILMN_3311180  XR_040140.2      SKCG-1   11q22.3d   \n",
       "ESP33       ILMN_3311185  XR_078679.1       ESP33        NaN   \n",
       "NCRNA00173  ILMN_3311190  NR_027346.1  NCRNA00173        NaN   \n",
       "\n",
       "                                                  description  \n",
       "geneSymbol                                                     \n",
       "LOC643334   PREDICTED: Homo sapiens hypothetical LOC643334...  \n",
       "SLC35E2     Homo sapiens solute carrier family 35, member ...  \n",
       "DUSP22      PREDICTED: Homo sapiens dual specificity phosp...  \n",
       "LOC642820   PREDICTED: Homo sapiens hypothetical protein L...  \n",
       "RPS28       Homo sapiens ribosomal protein S28 (RPS28), mRNA.  \n",
       "...                                                       ...  \n",
       "SKCG-1      PREDICTED: Homo sapiens sporadic kidney cancer...  \n",
       "ESP33       PREDICTED: Homo sapiens hypothetical locus ESP...  \n",
       "SKCG-1      PREDICTED: Homo sapiens sporadic kidney cancer...  \n",
       "ESP33       PREDICTED: Homo sapiens hypothetical locus ESP...  \n",
       "NCRNA00173  Homo sapiens non-protein coding RNA 173 (NCRNA...  \n",
       "\n",
       "[47326 rows x 5 columns]>"
      ]
     },
     "execution_count": 3,
     "metadata": {},
     "output_type": "execute_result"
    }
   ],
   "source": [
    "# For now let's read each value as a string (pandas thinks csome locus values are floats and produces NaNs)\n",
    "dtypes = {header:\"object\" for header in \"probe#\\taccession#\\tgeneName\\tgeneName2\\tcsomeLocus\\tdescription\\n\".split(\"\\t\")}\n",
    "\n",
    "clean_annotations = pd.read_csv(\"cleaned_illumina_annotations.tsv\", sep=\"\\t\", header=0, dtype=dtypes)\n",
    "clean_annotations.set_index(\"geneSymbol\", inplace=True)\n",
    "clean_annotations.head"
   ]
  },
  {
   "cell_type": "markdown",
   "metadata": {},
   "source": [
    "# Getting a list of Ad genes to use\n",
    "Three lists of AD associated genes were created from data downloaded form the Allen Brain Institute's \n",
    "[Brain Span developmental transcriptome](http://www.brainspan.org/rnaseq/search/index.html). These genes were selected via the gene categories:\n",
    "- *Alzheimer Disease*\n",
    "- *Alzheimer disease amyloid secretase pathway*\n",
    "- *Alzheimer disease presenilin pathway*\n",
    "\n",
    "The data in these files will be of use later when I attempt to vectorize the individual gene expression values in the GEO study from which transcriptome data was \n",
    "provided. "
   ]
  },
  {
   "cell_type": "code",
   "execution_count": 4,
   "metadata": {},
   "outputs": [],
   "source": [
    "# use a set to avoid duplicates\n",
    "gene_symbols = set()\n",
    "for name in [\"\", \"amyloid_secretase_\", \"Presenilin_\"]:\n",
    "    filepath = f\"Brain_Span_Data/AD_{name}0log2/Rows.csv\"\n",
    "    with open(filepath, \"r\") as f:\n",
    "        reader = csv.DictReader(f)\n",
    "        for row in reader:\n",
    "            gene_symbols.add(row.get(\"gene-symbol\"))\n",
    "        "
   ]
  },
  {
   "cell_type": "code",
   "execution_count": 5,
   "metadata": {},
   "outputs": [
    {
     "name": "stdout",
     "output_type": "stream",
     "text": [
      "178 genes\n",
      "180 genes after adding Tau and APOE\n",
      "178 genes remain\n"
     ]
    }
   ],
   "source": [
    "print(len(gene_symbols), \"genes\")\n",
    "# If the microtubule associated tau protein gene and APOE gene aren't in here, they really should be.\n",
    "gene_symbols.add(\"APOE\")\n",
    "# and Tau\n",
    "gene_symbols.add(\"MAPT\")\n",
    "print(len(gene_symbols), \"genes after adding Tau and APOE\")\n",
    "# Now filter out those genes which are not included in the Illumina probe\n",
    "illumina_genes = set(clean_annotations.index)\n",
    "gene_symbols = set(filter(lambda g: g in illumina_genes, gene_symbols))\n",
    "print(f\"{len(gene_symbols)} genes remain\")"
   ]
  },
  {
   "cell_type": "markdown",
   "metadata": {},
   "source": [
    "## I'm writing the results into a simple text file so I can use them to get relative transcriptomic expression data from [The Allen Brain Map](https://celltypes.brain-map.org/rnaseq/human_m1_10x)"
   ]
  },
  {
   "cell_type": "code",
   "execution_count": 6,
   "metadata": {},
   "outputs": [],
   "source": [
    "gene_symbol_list = list(gene_symbols)\n",
    "gene_symbol_list.sort()\n",
    "genes = \"\\n\".join(gene_symbol_list) # Makes a string w/ gene symbols separated by \\n carriadge return\n",
    "with open(\"AD_genes.txt\", \"w\") as f:\n",
    "    f.write(genes)"
   ]
  },
  {
   "cell_type": "markdown",
   "metadata": {},
   "source": [
    "# Restricting transcriptome data to 178 genes\n",
    "Restrict the experimental transcriptome data to just the 178 genes of interest for all 197 subjects\n",
    "\n",
    "TODO: This"
   ]
  },
  {
   "cell_type": "code",
   "execution_count": 7,
   "metadata": {},
   "outputs": [
    {
     "ename": "NameError",
     "evalue": "name 'ad_expression_df' is not defined",
     "output_type": "error",
     "traceback": [
      "\u001b[0;31m---------------------------------------------------------------------------\u001b[0m",
      "\u001b[0;31mNameError\u001b[0m                                 Traceback (most recent call last)",
      "\u001b[0;32m<ipython-input-7-1af7e6639372>\u001b[0m in \u001b[0;36m<module>\u001b[0;34m\u001b[0m\n\u001b[1;32m      1\u001b[0m \u001b[0;31m# Get a set of the illumina probe names we want to filter based on our 180 genes\u001b[0m\u001b[0;34m\u001b[0m\u001b[0;34m\u001b[0m\u001b[0;34m\u001b[0m\u001b[0m\n\u001b[1;32m      2\u001b[0m \u001b[0millumuna_to_symbols\u001b[0m \u001b[0;34m=\u001b[0m \u001b[0;34m{\u001b[0m\u001b[0mstr\u001b[0m\u001b[0;34m(\u001b[0m\u001b[0mclean_annotations\u001b[0m\u001b[0;34m.\u001b[0m\u001b[0mat\u001b[0m\u001b[0;34m[\u001b[0m\u001b[0mgene\u001b[0m\u001b[0;34m,\u001b[0m \u001b[0;34m\"probe#\"\u001b[0m\u001b[0;34m]\u001b[0m\u001b[0;34m)\u001b[0m\u001b[0;34m:\u001b[0m\u001b[0mgene\u001b[0m \u001b[0;32mfor\u001b[0m \u001b[0mgene\u001b[0m \u001b[0;32min\u001b[0m \u001b[0mgene_symbols\u001b[0m\u001b[0;34m}\u001b[0m\u001b[0;34m\u001b[0m\u001b[0;34m\u001b[0m\u001b[0m\n\u001b[0;32m----> 3\u001b[0;31m \u001b[0;34m[\u001b[0m\u001b[0mgene\u001b[0m \u001b[0;32mfor\u001b[0m \u001b[0mprobe\u001b[0m \u001b[0;32min\u001b[0m \u001b[0mad_expression_df\u001b[0m\u001b[0;34m[\u001b[0m\u001b[0;34m\"Illumina probe name\"\u001b[0m\u001b[0;34m]\u001b[0m\u001b[0;34m.\u001b[0m\u001b[0mto_list\u001b[0m\u001b[0;34m(\u001b[0m\u001b[0;34m)\u001b[0m\u001b[0;34m]\u001b[0m\u001b[0;34m\u001b[0m\u001b[0;34m\u001b[0m\u001b[0m\n\u001b[0m",
      "\u001b[0;31mNameError\u001b[0m: name 'ad_expression_df' is not defined"
     ]
    }
   ],
   "source": []
  }
 ],
 "metadata": {
  "kernelspec": {
   "display_name": "Python 3",
   "language": "python",
   "name": "python3"
  },
  "language_info": {
   "codemirror_mode": {
    "name": "ipython",
    "version": 3
   },
   "file_extension": ".py",
   "mimetype": "text/x-python",
   "name": "python",
   "nbconvert_exporter": "python",
   "pygments_lexer": "ipython3",
   "version": "3.7.4"
  }
 },
 "nbformat": 4,
 "nbformat_minor": 4
}
